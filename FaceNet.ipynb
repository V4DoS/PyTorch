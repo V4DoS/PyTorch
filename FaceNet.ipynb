{
 "cells": [
  {
   "cell_type": "code",
   "execution_count": 7,
   "id": "75e1a02e-24b3-4638-8750-8b849d19d312",
   "metadata": {},
   "outputs": [
    {
     "name": "stdout",
     "output_type": "stream",
     "text": [
      "Ребенок больше похож на мать (схожесть: 46.2%)\n"
     ]
    }
   ],
   "source": [
    "import torch\n",
    "from facenet_pytorch import InceptionResnetV1\n",
    "from PIL import Image\n",
    "from torchvision import transforms\n",
    "import numpy as np\n",
    "import os\n",
    "\n",
    "# Загрузка модели FaceNet\n",
    "model = InceptionResnetV1(pretrained='vggface2').eval()\n",
    "\n",
    "# Функция для обработки изображений и извлечения эмбеддингов\n",
    "def get_embedding(image_path):\n",
    "    # Открытие изображения\n",
    "    img = Image.open(image_path)\n",
    "    # Преобразование изображения для модели\n",
    "    transform = transforms.Compose([\n",
    "        transforms.Resize((160, 160)),\n",
    "        transforms.ToTensor(),\n",
    "        transforms.Normalize([0.485, 0.456, 0.406], [0.229, 0.224, 0.225])\n",
    "    ])\n",
    "    img_tensor = transform(img).unsqueeze(0)  # Добавляем batch dimension\n",
    "    # Извлечение эмбеддинга\n",
    "    with torch.no_grad():\n",
    "        embedding = model(img_tensor)\n",
    "    return embedding.squeeze().numpy()\n",
    "\n",
    "# Функция для вычисления среднего эмбеддинга для набора изображений\n",
    "def get_average_embedding(image_folder):\n",
    "    embeddings = []\n",
    "    for img_file in os.listdir(image_folder):\n",
    "        img_path = os.path.join(image_folder, img_file)\n",
    "        embedding = get_embedding(img_path)\n",
    "        embeddings.append(embedding)\n",
    "    return np.mean(embeddings, axis=0)\n",
    "\n",
    "# Пути к папкам с изображениями\n",
    "mother_folder = './Инна'  # Замените на путь к изображениям матери\n",
    "father_folder = './Вадим'  # Замените на путь к изображениям отца\n",
    "child_image = 'B14dos3.jpg'  # Замените на путь к изображению ребенка\n",
    "\n",
    "# Извлечение средних эмбеддингов\n",
    "mother_embedding = get_average_embedding(mother_folder)\n",
    "father_embedding = get_average_embedding(father_folder)\n",
    "\n",
    "# Эмбеддинг для ребенка\n",
    "child_embedding = get_embedding(child_image)\n",
    "\n",
    "# Функция для расчета косинусного расстояния\n",
    "def cosine_similarity(embedding1, embedding2):\n",
    "    return np.dot(embedding1, embedding2) / (np.linalg.norm(embedding1) * np.linalg.norm(embedding2))\n",
    "\n",
    "# Расчет схожести\n",
    "similarity_mother = cosine_similarity(child_embedding, mother_embedding)\n",
    "similarity_father = cosine_similarity(child_embedding, father_embedding)\n",
    "\n",
    "# Определение результата\n",
    "if similarity_mother > similarity_father:\n",
    "    print(f\"Ребенок больше похож на мать (схожесть: {similarity_mother*100:.1f}%)\")\n",
    "else:\n",
    "    print(f\"Ребенок больше похож на отца (схожесть: {similarity_father*100:.1f}%)\")\n"
   ]
  },
  {
   "cell_type": "code",
   "execution_count": null,
   "id": "325c215d-1545-4ce2-959d-0f22050db2fc",
   "metadata": {},
   "outputs": [],
   "source": []
  },
  {
   "cell_type": "code",
   "execution_count": null,
   "id": "5438e51e-889e-49e4-afae-74a65cd4542a",
   "metadata": {},
   "outputs": [],
   "source": []
  },
  {
   "cell_type": "code",
   "execution_count": null,
   "id": "34b21e1d-f606-4e1c-baa0-22702114ba5a",
   "metadata": {},
   "outputs": [],
   "source": []
  },
  {
   "cell_type": "code",
   "execution_count": null,
   "id": "d3ea8437-5761-4eaf-aea3-0c3350def840",
   "metadata": {},
   "outputs": [],
   "source": []
  },
  {
   "cell_type": "code",
   "execution_count": null,
   "id": "8e4945c4-1b0f-4b5d-9269-9cef19f5fac4",
   "metadata": {},
   "outputs": [],
   "source": []
  },
  {
   "cell_type": "code",
   "execution_count": null,
   "id": "ac71ab53-14e5-417f-b414-a49dbf07a9c2",
   "metadata": {},
   "outputs": [],
   "source": []
  },
  {
   "cell_type": "code",
   "execution_count": null,
   "id": "cbaa9e5a-ffa9-46c8-b808-082b2536757f",
   "metadata": {},
   "outputs": [],
   "source": []
  },
  {
   "cell_type": "code",
   "execution_count": null,
   "id": "a5eb3198-405b-4da2-a527-c14bb4289aea",
   "metadata": {},
   "outputs": [],
   "source": []
  },
  {
   "cell_type": "code",
   "execution_count": null,
   "id": "f37803b1-f751-4d66-bad2-45701a5e27bf",
   "metadata": {},
   "outputs": [],
   "source": []
  },
  {
   "cell_type": "code",
   "execution_count": null,
   "id": "215a5762-4d70-4e07-9988-dea3ff9ec5d8",
   "metadata": {},
   "outputs": [],
   "source": []
  }
 ],
 "metadata": {
  "kernelspec": {
   "display_name": "Python 3 (ipykernel)",
   "language": "python",
   "name": "python3"
  },
  "language_info": {
   "codemirror_mode": {
    "name": "ipython",
    "version": 3
   },
   "file_extension": ".py",
   "mimetype": "text/x-python",
   "name": "python",
   "nbconvert_exporter": "python",
   "pygments_lexer": "ipython3",
   "version": "3.11.7"
  }
 },
 "nbformat": 4,
 "nbformat_minor": 5
}
