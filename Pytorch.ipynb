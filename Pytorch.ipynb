{
 "cells": [
  {
   "cell_type": "markdown",
   "id": "d9f6ab4c-8b36-4e49-9928-d1e7eb238c0a",
   "metadata": {
    "jp-MarkdownHeadingCollapsed": true
   },
   "source": [
    "## Методы"
   ]
  },
  {
   "cell_type": "code",
   "execution_count": null,
   "id": "bddf57d6-60d8-4d85-bf64-34e233a12829",
   "metadata": {},
   "outputs": [],
   "source": [
    "import torch"
   ]
  },
  {
   "cell_type": "code",
   "execution_count": null,
   "id": "6c2fbd01-7deb-4d35-adc9-42ba922d0155",
   "metadata": {},
   "outputs": [],
   "source": [
    "torch.Tensor(2,3)"
   ]
  },
  {
   "cell_type": "code",
   "execution_count": null,
   "id": "1e4ad5e6-30b3-4aa2-8821-fa06e4f41926",
   "metadata": {},
   "outputs": [],
   "source": [
    "torch.tensor([[2,3],[4,5]])"
   ]
  },
  {
   "cell_type": "code",
   "execution_count": null,
   "id": "974dad70-31bc-4b63-8a92-60e289fd8e9d",
   "metadata": {},
   "outputs": [],
   "source": [
    "tensor=torch.tensor([[[2,3,0],[4,5,0],[6,7,1]],[[5,6,0],[7,0,0],[8,3,1]],[[8,6,2],[6,5,3],[5,3,3]]])\n",
    "tensor#.storage() #хранилище"
   ]
  },
  {
   "cell_type": "code",
   "execution_count": null,
   "id": "0315d30c-8111-4c92-8096-2975e8e7fac3",
   "metadata": {},
   "outputs": [],
   "source": [
    "tensor.shape   #tensor.size()"
   ]
  },
  {
   "cell_type": "code",
   "execution_count": null,
   "id": "5487fd6c-a66f-4d9e-b3cb-178ce918764f",
   "metadata": {},
   "outputs": [],
   "source": [
    "arange_tensor = torch.arange(0, 10, 2) #от до шаг\n",
    "arange_tensor"
   ]
  },
  {
   "cell_type": "code",
   "execution_count": null,
   "id": "dd4d8ad1-2910-41c7-b81a-b05a61020615",
   "metadata": {},
   "outputs": [],
   "source": [
    "tensor[2,0,0].item() # хотим получить 8"
   ]
  },
  {
   "cell_type": "code",
   "execution_count": null,
   "id": "b5a7283d-15b6-4a90-ae65-c3f64c303b7b",
   "metadata": {},
   "outputs": [],
   "source": [
    "torch.rand(5,3,3).reshape(3,3,5) #случайное равномерное распределние   torch.randn(3,3,3) случайное нормальное распределние"
   ]
  },
  {
   "cell_type": "code",
   "execution_count": null,
   "id": "033df436-f339-48e7-b67c-bea2c11b8613",
   "metadata": {},
   "outputs": [],
   "source": [
    "reshaped_tensor = tensor.view(-1,27)   #Изменение Формы Тензоров\n",
    "reshaped_tensor"
   ]
  },
  {
   "cell_type": "code",
   "execution_count": null,
   "id": "08e0445e-c452-4a99-a4a5-af94c41750c2",
   "metadata": {},
   "outputs": [],
   "source": [
    "linspace_tensor = torch.linspace(0, 1, steps=9)\n",
    "linspace_tensor"
   ]
  },
  {
   "cell_type": "code",
   "execution_count": null,
   "id": "5a80b063-4af8-425a-8c96-5b8db9fbc404",
   "metadata": {},
   "outputs": [],
   "source": [
    "a = torch.rand(3, 3)\n",
    "a.unsqueeze(0) # Добавление еще одного измерения"
   ]
  },
  {
   "cell_type": "code",
   "execution_count": null,
   "id": "4fdfd5fb-9042-4924-87e8-25b006dcf8d3",
   "metadata": {},
   "outputs": [],
   "source": [
    "a.squeeze(0)  # удаляет измерение"
   ]
  },
  {
   "cell_type": "code",
   "execution_count": null,
   "id": "0af1b66a-966f-4f83-a161-ae3b050949c9",
   "metadata": {},
   "outputs": [],
   "source": [
    "a = torch.rand(3, 3)  \n",
    "a.normal_()           # Нормальное распределение.(математическое ожидание = 0, стандартное отклонение = 1)."
   ]
  },
  {
   "cell_type": "code",
   "execution_count": null,
   "id": "c12dc67e-eab2-4727-b0bc-2d22a98a807e",
   "metadata": {},
   "outputs": [],
   "source": [
    "a = torch.Tensor([1, 1, 1, 0, 1])\n",
    "torch.nonzero(a)    # извлечение не нулевых индексов тензора  "
   ]
  },
  {
   "cell_type": "code",
   "execution_count": null,
   "id": "d7554b1e-a1e7-415e-a08f-fa5617dccb6c",
   "metadata": {},
   "outputs": [],
   "source": [
    "a = torch.rand(3, 1)\n",
    "a.expand(3, 4)     # создание копий тензора"
   ]
  },
  {
   "cell_type": "code",
   "execution_count": null,
   "id": "dcdbf5ad-34c8-4e85-9dc1-ffe31a9868e9",
   "metadata": {},
   "outputs": [],
   "source": [
    "a = torch.rand(3, 4, 5)\n",
    "b = torch.rand(3, 5, 4)\n",
    "torch.bmm(a, b)                  #Пакетное произведение матриц"
   ]
  },
  {
   "cell_type": "markdown",
   "id": "84187100-62a7-44c7-a282-2f7124a7da50",
   "metadata": {
    "jp-MarkdownHeadingCollapsed": true
   },
   "source": [
    "## Функции"
   ]
  },
  {
   "cell_type": "code",
   "execution_count": null,
   "id": "a4dc30b2-7231-44f3-b326-c75659e71281",
   "metadata": {},
   "outputs": [],
   "source": [
    "x=torch.zeros(3,3,3)  #все нули или ones-все единицы\n",
    "x.fill_(2)\n",
    "x"
   ]
  },
  {
   "cell_type": "code",
   "execution_count": null,
   "id": "5113c24b-c6fb-4969-8be1-72768bdaecae",
   "metadata": {},
   "outputs": [],
   "source": [
    "torch.add(x,x)  #Сумирвоание тензоров"
   ]
  },
  {
   "cell_type": "code",
   "execution_count": null,
   "id": "8670bfb2-d32d-4e68-a861-b14fdc34f950",
   "metadata": {},
   "outputs": [],
   "source": [
    "x=torch.arange(6) #Создание вектора или тензора 1го порядка\n",
    "x"
   ]
  },
  {
   "cell_type": "code",
   "execution_count": null,
   "id": "03e16c91-c456-482b-8ce2-689363cd85ae",
   "metadata": {},
   "outputs": [],
   "source": [
    "x.sum()"
   ]
  },
  {
   "cell_type": "code",
   "execution_count": null,
   "id": "56cd1149-14c9-49b3-a511-fab664644ecc",
   "metadata": {},
   "outputs": [],
   "source": [
    "x=torch.arange(2,10,0.2) #Создание вектора или тензора 1го порядка от.до.с шагом\n",
    "x"
   ]
  },
  {
   "cell_type": "code",
   "execution_count": null,
   "id": "1659377f-c7f5-4172-b23e-83bd13f61167",
   "metadata": {},
   "outputs": [],
   "source": [
    "x=torch.FloatTensor(2,3,3)\n",
    "x"
   ]
  },
  {
   "cell_type": "code",
   "execution_count": null,
   "id": "77d067f8-f093-4002-b3f6-2979d1bc16db",
   "metadata": {},
   "outputs": [],
   "source": [
    "x.mean()"
   ]
  },
  {
   "cell_type": "code",
   "execution_count": null,
   "id": "a4af8c93-cbfc-4fe2-b651-3200d49f68fb",
   "metadata": {},
   "outputs": [],
   "source": [
    "ones=torch.ones(size=(4,4,4))\n",
    "ones"
   ]
  },
  {
   "cell_type": "code",
   "execution_count": null,
   "id": "06ee9bd1-f1bb-4310-bbc5-6feff92eca2b",
   "metadata": {},
   "outputs": [],
   "source": [
    "zero=torch.zeros(size=(4,4,4))\n",
    "zero"
   ]
  },
  {
   "cell_type": "code",
   "execution_count": null,
   "id": "c424ee2a-ad85-42ae-ace8-fff1accc115f",
   "metadata": {},
   "outputs": [],
   "source": [
    "y=torch.transpose(x,0,1)\n",
    "y"
   ]
  },
  {
   "cell_type": "code",
   "execution_count": null,
   "id": "d5a3af80-7e21-4b47-9a62-ffb40b187b31",
   "metadata": {},
   "outputs": [],
   "source": [
    "x[:1,:2]          #Срезы"
   ]
  },
  {
   "cell_type": "code",
   "execution_count": null,
   "id": "4d856f1c-2535-4fc5-9626-0570bc9730e6",
   "metadata": {},
   "outputs": [],
   "source": [
    "torch.stack([x,x]) #Дублирование"
   ]
  },
  {
   "cell_type": "code",
   "execution_count": null,
   "id": "7e3f7797-9342-4388-b912-18bd1c86a7f0",
   "metadata": {},
   "outputs": [],
   "source": [
    "device=torch.device('cuda' if torch.cuda.is_available() else 'cpu')\n",
    "print(device)\n",
    "# device=torch.device('cuda')\n",
    "# print(device)"
   ]
  },
  {
   "cell_type": "code",
   "execution_count": null,
   "id": "515316b4-c369-4f1f-94bd-818d98f77a28",
   "metadata": {},
   "outputs": [],
   "source": [
    "print(torch.cuda.is_available())   #GPU  available?"
   ]
  },
  {
   "cell_type": "code",
   "execution_count": null,
   "id": "2bd5d1e0-dfd3-4457-b3d2-c30479f69cb5",
   "metadata": {},
   "outputs": [],
   "source": [
    "print(torch.cpu.is_available())   #CPU  available?"
   ]
  },
  {
   "cell_type": "code",
   "execution_count": null,
   "id": "973cd8b1-4ce8-48c4-a534-f0739f207612",
   "metadata": {},
   "outputs": [],
   "source": [
    "x=torch.tensor([[2.0,3.0,4.0,5.0]],dtype=torch.float32,requires_grad=True) \n",
    "\"\"\"requires_grad — это атрибут в PyTorch, который используется для управления тем, \n",
    "следует ли вычислять градиенты для тензора во время обратного распространения (backpropagation).\"\"\"\n",
    "y = x + 2\n",
    "z = y * y * 3\n",
    "out = z.mean()\n",
    "\n",
    "# Обратное распространение\n",
    "out.backward()\n",
    "\n",
    "# Градиенты x\n",
    "print(x.grad)"
   ]
  },
  {
   "cell_type": "code",
   "execution_count": null,
   "id": "fe5ad4bd-88ad-406e-acc0-0ff4ed9f05c8",
   "metadata": {},
   "outputs": [],
   "source": [
    "import imageio                        #Загрузка изображения\n",
    "img_arr = imageio.imread('./dog.jpg')\n",
    "img_arr.shape"
   ]
  },
  {
   "cell_type": "markdown",
   "id": "14195c48-30e3-48d5-b340-e8e4b0787320",
   "metadata": {
    "jp-MarkdownHeadingCollapsed": true
   },
   "source": [
    "## nn. Модуль"
   ]
  },
  {
   "cell_type": "markdown",
   "id": "5af98b1b-f541-46fc-80ee-f708e9d9a601",
   "metadata": {},
   "source": [
    "<img src=\"nn1.png\">"
   ]
  },
  {
   "cell_type": "code",
   "execution_count": null,
   "id": "4233c5f8-9bb0-4690-979f-7bd013b98e34",
   "metadata": {},
   "outputs": [],
   "source": [
    "import torch\n",
    "import torch.nn as nn\n",
    "import torch.optim as optim"
   ]
  },
  {
   "cell_type": "code",
   "execution_count": null,
   "id": "a58450d6-0e77-4797-95d5-869538058fec",
   "metadata": {},
   "outputs": [],
   "source": [
    "#nn.Conv2D(in_channels-входной канал, out_chennels-выходной канал, (3,3)-размер ядра, stride=1(смещение,шаг),padding=1-внейний отступ с 0,Bias=True)"
   ]
  },
  {
   "cell_type": "code",
   "execution_count": null,
   "id": "23c87342-2845-4ea2-93c7-8ca6074742dd",
   "metadata": {},
   "outputs": [],
   "source": [
    "class MyModel(nn.Module):\n",
    "    def __init__(self,input,output):\n",
    "        super().__init__()\n",
    "        self.layar_1=nn.Linear(input,128)\n",
    "        self.layar_2=nn.Linear(128, output)\n",
    "        self.act=nn.ReLU()\n",
    "    def forward(self, x):\n",
    "        x=self.layar_1(x)\n",
    "        x=self.act(x)\n",
    "        out=self.layar_2(x)\n",
    "        return out       "
   ]
  },
  {
   "cell_type": "code",
   "execution_count": null,
   "id": "cb52e31c-35c5-41f1-a9e2-b014f3e98726",
   "metadata": {},
   "outputs": [],
   "source": [
    "model_classification = MyModel(784,10)"
   ]
  },
  {
   "cell_type": "code",
   "execution_count": null,
   "id": "5c54a93b-0324-43c9-9da1-3c2b95763b35",
   "metadata": {},
   "outputs": [],
   "source": [
    "total_params = sum(p.numel() for p in model_classification.parameters()) #p.numel возвращает количество элементов \n",
    "print(f\"Total number of parameters: {total_params}\")                     #(нейронов) в тензоре параметров.\n"
   ]
  },
  {
   "cell_type": "code",
   "execution_count": null,
   "id": "d8d188a2-4eb9-4099-80e5-e1262d1eb3bf",
   "metadata": {},
   "outputs": [],
   "source": [
    "loss_classification=nn.CrossEntropyLoss()  #для задач классификации.\n",
    "# mse_loss = nn.MSELoss() Для задач регресии\n",
    "opt_classification=torch.optim.Adam(model_classification.parameters(),lr=0.001)"
   ]
  },
  {
   "cell_type": "code",
   "execution_count": null,
   "id": "c349ed31-cd6f-4a02-9776-181a354de8e5",
   "metadata": {},
   "outputs": [],
   "source": [
    "input=torch.rand([16,784],dtype=torch.float32)\n",
    "out=model_classification(input)\n",
    "out.shape"
   ]
  },
  {
   "cell_type": "code",
   "execution_count": null,
   "id": "6acc100f-799e-4486-81fe-e29812d30ec6",
   "metadata": {},
   "outputs": [],
   "source": [
    "model_classification.state_dict() #параметры модели"
   ]
  },
  {
   "cell_type": "code",
   "execution_count": null,
   "id": "31ee394c-951d-4603-a8e0-23a42d87c130",
   "metadata": {},
   "outputs": [],
   "source": [
    "for parameters in model_classification.parameters():\n",
    "    print(parameters)"
   ]
  },
  {
   "cell_type": "code",
   "execution_count": null,
   "id": "f788a2ca-2ed7-41c8-9988-d0cc1c540075",
   "metadata": {},
   "outputs": [],
   "source": [
    "# model = nn.Sequential(\n",
    "# nn.Linear(784,128),\n",
    "# nn.ReLU(),\n",
    "# nn.Linear(128,10)\n",
    "# )"
   ]
  },
  {
   "cell_type": "code",
   "execution_count": null,
   "id": "018206bb-b567-48b5-b8b5-cedfd8169997",
   "metadata": {},
   "outputs": [],
   "source": [
    "model = nn.Sequential()\n",
    "model.add_module('layar_1', nn.Linear(784,128))\n",
    "model.add_module('relu', nn.ReLU())\n",
    "model.add_module('layar_2', nn.Linear(128,10))\n",
    "model"
   ]
  },
  {
   "cell_type": "code",
   "execution_count": null,
   "id": "d02923f2-a2a5-4bb7-8f92-b5a9256e54e5",
   "metadata": {},
   "outputs": [],
   "source": [
    "input=torch.rand([16,784],dtype=torch.float32)\n",
    "out=model(input)\n",
    "out.shape"
   ]
  },
  {
   "cell_type": "code",
   "execution_count": null,
   "id": "3175bed4-4fd8-4ab3-9807-7bf0e312f9e0",
   "metadata": {},
   "outputs": [],
   "source": [
    "model.state_dict()"
   ]
  },
  {
   "cell_type": "code",
   "execution_count": null,
   "id": "884933fe-e48b-4691-b7d3-46a94e5f2e01",
   "metadata": {},
   "outputs": [],
   "source": [
    "# model.state_dict()['0.weight']\n",
    "# model.state_dict()['0.bias']"
   ]
  },
  {
   "cell_type": "markdown",
   "id": "f5cd249d-cc82-4422-a1c7-b368835aa195",
   "metadata": {},
   "source": [
    "<img src=\"nn2.png\">"
   ]
  },
  {
   "cell_type": "markdown",
   "id": "1ced0dff-8f5f-4f0e-bd88-f3786418aafe",
   "metadata": {},
   "source": [
    "<img src=\"nn3.png\">"
   ]
  },
  {
   "cell_type": "code",
   "execution_count": null,
   "id": "5bf5f989-029d-4a79-b793-c78651ae8587",
   "metadata": {},
   "outputs": [],
   "source": [
    "import torch\n",
    "import torch.nn as nn\n",
    "import torch.nn.functional as F\n",
    "\n",
    "class CustomNet(nn.Module):\n",
    "    def __init__(self):\n",
    "        super(CustomNet, self).__init__()\n",
    "        # Линейный слой для X (784 -> 128)\n",
    "        self.fc1 = nn.Linear(784, 128)\n",
    "        # Линейный слой для выхода (128 -> 10)\n",
    "        self.fc2 = nn.Linear(128, 10)\n",
    "    \n",
    "    def forward(self, x, y):\n",
    "        # Преобразуем X через первый линейный слой\n",
    "        x = self.fc1(x)\n",
    "        # Суммируем преобразованный X и Y\n",
    "        combined = x + y\n",
    "        # Пропускаем через ReLU\n",
    "        combined = F.relu(combined)\n",
    "        # Пропускаем через последний линейный слой\n",
    "        output = self.fc2(combined)\n",
    "        return output\n",
    "\n",
    "# Пример использования:\n",
    "model = CustomNet()\n",
    "x_input = torch.randn(1, 784)  # Пример входа X\n",
    "y_input = torch.randn(1, 128)  # Пример входа Y\n",
    "output = model(x_input, y_input)\n",
    "print(output)"
   ]
  },
  {
   "cell_type": "markdown",
   "id": "b736c022-dc4d-4a2a-9a99-6e08765d5bdc",
   "metadata": {
    "jp-MarkdownHeadingCollapsed": true
   },
   "source": [
    "## Torchvision"
   ]
  },
  {
   "cell_type": "code",
   "execution_count": null,
   "id": "1eb5105c-a2b1-4083-a6d8-59b3be898b49",
   "metadata": {},
   "outputs": [],
   "source": [
    "import torch\n",
    "import torchvision.transforms as transforms\n",
    "from PIL import Image\n",
    "import torchvision.models as models\n",
    "\n",
    "# Загрузка предобученной модели\n",
    "resnet = models.resnet50(pretrained=True)\n",
    "resnet.eval()  # Переключение в режим оценки\n",
    "\n",
    "# Загрузка и предобработка изображения\n",
    "transform = transforms.Compose([\n",
    "    transforms.Resize(256),\n",
    "    transforms.CenterCrop(224),\n",
    "    transforms.ToTensor(),\n",
    "    transforms.Normalize(mean=[0.485, 0.456, 0.406], std=[0.229, 0.224, 0.225])\n",
    "])\n",
    "\n",
    "img = Image.open('./dog.jpg')\n",
    "img_t = transform(img)\n",
    "img_t"
   ]
  },
  {
   "cell_type": "code",
   "execution_count": null,
   "id": "6d10de3c-67cb-40c5-be82-8e7f092e758a",
   "metadata": {},
   "outputs": [],
   "source": [
    "batch_t = torch.unsqueeze(img_t, 0)\n",
    "batch_t"
   ]
  }
 ],
 "metadata": {
  "kernelspec": {
   "display_name": "Python 3 (ipykernel)",
   "language": "python",
   "name": "python3"
  },
  "language_info": {
   "codemirror_mode": {
    "name": "ipython",
    "version": 3
   },
   "file_extension": ".py",
   "mimetype": "text/x-python",
   "name": "python",
   "nbconvert_exporter": "python",
   "pygments_lexer": "ipython3",
   "version": "3.11.7"
  }
 },
 "nbformat": 4,
 "nbformat_minor": 5
}
